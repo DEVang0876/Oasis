{
 "cells": [
  {
   "cell_type": "markdown",
   "id": "2b2a1ca3",
   "metadata": {},
   "source": [
    "<h2>Data Cleaning"
   ]
  },
  {
   "cell_type": "markdown",
   "id": "5bf8eaf5",
   "metadata": {},
   "source": [
    "<h3> YouTube Video Stats"
   ]
  },
  {
   "cell_type": "code",
   "execution_count": 4,
   "id": "b4720fd1",
   "metadata": {},
   "outputs": [
    {
     "name": "stderr",
     "output_type": "stream",
     "text": [
      "/var/folders/cm/9rjzvcbn783456m0cwxvszdh0000gn/T/ipykernel_2081/2131707461.py:8: DeprecationWarning: load_dataset is deprecated and will be removed in a future version.\n",
      "  df = kagglehub.load_dataset(\n"
     ]
    },
    {
     "name": "stdout",
     "output_type": "stream",
     "text": [
      "First 5 records:       video_id trending_date  \\\n",
      "0  n1WpP7iowLc      17.14.11   \n",
      "1  0dBIkQ4Mz1M      17.14.11   \n",
      "2  5qpjK5DgCt4      17.14.11   \n",
      "3  d380meD0W0M      17.14.11   \n",
      "4  2Vv-BfVoq4g      17.14.11   \n",
      "\n",
      "                                               title channel_title  \\\n",
      "0         Eminem - Walk On Water (Audio) ft. Beyoncé    EminemVEVO   \n",
      "1                      PLUSH - Bad Unboxing Fan Mail     iDubbbzTV   \n",
      "2  Racist Superman | Rudy Mancuso, King Bach & Le...  Rudy Mancuso   \n",
      "3                           I Dare You: GOING BALD!?      nigahiga   \n",
      "4        Ed Sheeran - Perfect (Official Music Video)    Ed Sheeran   \n",
      "\n",
      "   category_id              publish_time  \\\n",
      "0           10  2017-11-10T17:00:03.000Z   \n",
      "1           23  2017-11-13T17:00:00.000Z   \n",
      "2           23  2017-11-12T19:05:24.000Z   \n",
      "3           24  2017-11-12T18:01:41.000Z   \n",
      "4           10  2017-11-09T11:04:14.000Z   \n",
      "\n",
      "                                                tags     views    likes  \\\n",
      "0  Eminem|\"Walk\"|\"On\"|\"Water\"|\"Aftermath/Shady/In...  17158579   787425   \n",
      "1  plush|\"bad unboxing\"|\"unboxing\"|\"fan mail\"|\"id...   1014651   127794   \n",
      "2  racist superman|\"rudy\"|\"mancuso\"|\"king\"|\"bach\"...   3191434   146035   \n",
      "3  ryan|\"higa\"|\"higatv\"|\"nigahiga\"|\"i dare you\"|\"...   2095828   132239   \n",
      "4  edsheeran|\"ed sheeran\"|\"acoustic\"|\"live\"|\"cove...  33523622  1634130   \n",
      "\n",
      "   dislikes  comment_count                                  thumbnail_link  \\\n",
      "0     43420         125882  https://i.ytimg.com/vi/n1WpP7iowLc/default.jpg   \n",
      "1      1688          13030  https://i.ytimg.com/vi/0dBIkQ4Mz1M/default.jpg   \n",
      "2      5339           8181  https://i.ytimg.com/vi/5qpjK5DgCt4/default.jpg   \n",
      "3      1989          17518  https://i.ytimg.com/vi/d380meD0W0M/default.jpg   \n",
      "4     21082          85067  https://i.ytimg.com/vi/2Vv-BfVoq4g/default.jpg   \n",
      "\n",
      "   comments_disabled  ratings_disabled  video_error_or_removed  \\\n",
      "0              False             False                   False   \n",
      "1              False             False                   False   \n",
      "2              False             False                   False   \n",
      "3              False             False                   False   \n",
      "4              False             False                   False   \n",
      "\n",
      "                                         description  \n",
      "0  Eminem's new track Walk on Water ft. Beyoncé i...  \n",
      "1  STill got a lot of packages. Probably will las...  \n",
      "2  WATCH MY PREVIOUS VIDEO ▶ \\n\\nSUBSCRIBE ► http...  \n",
      "3  I know it's been a while since we did this sho...  \n",
      "4  🎧: https://ad.gt/yt-perfect\\n💰: https://atlant...  \n"
     ]
    }
   ],
   "source": [
    "\n",
    "import kagglehub\n",
    "from kagglehub import KaggleDatasetAdapter\n",
    "\n",
    "# Set the path to the file you'd like to load\n",
    "file_path = \"CAvideos.csv\"\n",
    "\n",
    "# Load the latest version\n",
    "df = kagglehub.load_dataset(\n",
    "  KaggleDatasetAdapter.PANDAS,\n",
    "  \"datasnaek/youtube-new\",\n",
    "  file_path,\n",
    "\n",
    ")\n",
    "\n",
    "print(\"First 5 records:\", df.head())"
   ]
  }
 ],
 "metadata": {
  "kernelspec": {
   "display_name": "Python 3",
   "language": "python",
   "name": "python3"
  },
  "language_info": {
   "codemirror_mode": {
    "name": "ipython",
    "version": 3
   },
   "file_extension": ".py",
   "mimetype": "text/x-python",
   "name": "python",
   "nbconvert_exporter": "python",
   "pygments_lexer": "ipython3",
   "version": "3.9.6"
  }
 },
 "nbformat": 4,
 "nbformat_minor": 5
}
