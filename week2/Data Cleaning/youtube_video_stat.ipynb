{
 "cells": [
  {
   "cell_type": "markdown",
   "id": "2b2a1ca3",
   "metadata": {},
   "source": [
    "<h2>Data Cleaning"
   ]
  },
  {
   "cell_type": "markdown",
   "id": "5bf8eaf5",
   "metadata": {},
   "source": [
    "<h3> YouTube Video Stats"
   ]
  }
 ],
 "metadata": {
  "language_info": {
   "name": "python"
  }
 },
 "nbformat": 4,
 "nbformat_minor": 5
}
