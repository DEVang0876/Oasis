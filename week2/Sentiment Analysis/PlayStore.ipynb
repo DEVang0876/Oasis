{
 "cells": [
  {
   "cell_type": "code",
   "execution_count": null,
   "id": "aa72fa7e",
   "metadata": {},
   "outputs": [],
   "source": [
    "#import reviews\n"
   ]
  },
  {
   "cell_type": "code",
   "execution_count": null,
   "id": "bb69f74e",
   "metadata": {},
   "outputs": [],
   "source": [
    "#import apps"
   ]
  }
 ],
 "metadata": {
  "language_info": {
   "name": "python"
  }
 },
 "nbformat": 4,
 "nbformat_minor": 5
}
