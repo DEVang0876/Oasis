{
 "cells": [
  {
   "cell_type": "code",
   "execution_count": null,
   "id": "1e4afa6f",
   "metadata": {},
   "outputs": [
    {
     "name": "stdout",
     "output_type": "stream",
     "text": [
      "First 5 records:                                           clean_text  category\n",
      "0  when modi promised “minimum government maximum...      -1.0\n",
      "1  talk all the nonsense and continue all the dra...       0.0\n",
      "2  what did just say vote for modi  welcome bjp t...       1.0\n",
      "3  asking his supporters prefix chowkidar their n...       1.0\n",
      "4  answer who among these the most powerful world...       1.0\n"
     ]
    }
   ],
   "source": [
    "\n",
    "import kagglehub\n",
    "from kagglehub import KaggleDatasetAdapter\n",
    "\n",
    "import os\n",
    "\n",
    "# List files in the dataset directory and pick a supported file\n",
    "supported_exts = [\n",
    "    \".csv\", \".tsv\", \".json\", \".jsonl\", \".xml\", \".parquet\", \".feather\",\n",
    "    \".sqlite\", \".sqlite3\", \".db\", \".db3\", \".s3db\", \".dl3\",\n",
    "    \".xls\", \".xlsx\", \".xlsm\", \".xlsb\", \".odf\", \".ods\", \".odt\"\n",
    "]\n",
    "dataset_files = [f for f in os.listdir(path) if os.path.splitext(f)[1] in supported_exts]\n",
    "\n",
    "if not dataset_files:\n",
    "    raise ValueError(\"No supported dataset files found in the directory.\")\n",
    "\n",
    "file_path = os.path.join(path, dataset_files[0])\n",
    "\n",
    "# Load the latest version\n",
    "import pandas as pd\n",
    "\n",
    "df = pd.read_csv(file_path)\n",
    "\n",
    "print(\"First 5 records:\", df.head())"
   ]
  }
 ],
 "metadata": {
  "kernelspec": {
   "display_name": "Python 3",
   "language": "python",
   "name": "python3"
  },
  "language_info": {
   "codemirror_mode": {
    "name": "ipython",
    "version": 3
   },
   "file_extension": ".py",
   "mimetype": "text/x-python",
   "name": "python",
   "nbconvert_exporter": "python",
   "pygments_lexer": "ipython3",
   "version": "3.9.6"
  }
 },
 "nbformat": 4,
 "nbformat_minor": 5
}
